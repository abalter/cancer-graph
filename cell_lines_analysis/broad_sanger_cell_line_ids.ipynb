{
 "cells": [
  {
   "cell_type": "raw",
   "id": "bbb0d613",
   "metadata": {},
   "source": [
    "---\n",
    "title: \"Broad vs. Sanger Cell Line IDs\"\n",
    "author: \"Ariel Balter\"\n",
    "date: \"`r format(Sys.time(), '%d %B, %Y')`\"\n",
    "output:\n",
    "  html_notebook:\n",
    "    number_sections: yes\n",
    "    toc: yes\n",
    "    toc_float:\n",
    "      collapsed: yes\n",
    "    theme: lumen\n",
    "    fig_caption: yes\n",
    "    code_folding: show\n",
    "---"
   ]
  },
  {
   "cell_type": "markdown",
   "id": "2539f6d6",
   "metadata": {
    "lines_to_next_cell": 0
   },
   "source": []
  },
  {
   "cell_type": "code",
   "execution_count": null,
   "id": "e385f3f6",
   "metadata": {
    "lines_to_next_cell": 2,
    "tags": [
     "remove_cell"
    ]
   },
   "outputs": [],
   "source": [
    "library(tidyverse)\n",
    "library(DT)\n",
    "\n",
    "display_table = function(\n",
    "    df,\n",
    "    caption=NULL,\n",
    "    search=list(regex = TRUE, caseInsensitive = TRUE)\n",
    ")\n",
    "{\n",
    "  num_rows = min(10, nrow(df))\n",
    "  df %>%\n",
    "    datatable(\n",
    "      extensions = c('ColReorder', 'Scroller'),\n",
    "      options = list(\n",
    "        colReorder=T,\n",
    "        scroller=T,\n",
    "        scrollY=20*num_rows,\n",
    "        ScrollX=T,\n",
    "        ScrollY=T,\n",
    "        autoWidth=T,\n",
    "        searchHighlight = TRUE,\n",
    "        search = search,\n",
    "        pageLength = num_rows,\n",
    "        fixedheader = TRUE\n",
    "      ),\n",
    "      caption = htmltools::tags$caption(\n",
    "        style = '\n",
    "        caption-side: top;\n",
    "        text-align: center;\n",
    "        color:black;\n",
    "        font-size:150% ;',\n",
    "        caption),\n",
    "      # caption = caption,\n",
    "      rownames = F\n",
    "    ) %>%\n",
    "    formatStyle(columns = colnames(.), fontSize = '50%')\n",
    "}"
   ]
  },
  {
   "cell_type": "markdown",
   "id": "81011e57",
   "metadata": {},
   "source": [
    "# DepMap Project\n",
    "Broad and Sanger are both part of the DepMap project. \n",
    "\n",
    "## Sanger\n",
    "Sanger has a web page for its [DepMap Models](https://depmap.sanger.ac.uk/programmes/#models\n",
    ")\n",
    "\n",
    "Under this section is a link to the [Cell Model Passports](https://cellmodelpassports.sanger.ac.uk/\n",
    ") section which\n",
    "\n",
    ">provides a single location where information on Sanger DepMap cell models is available in a user-friendly environment.\n",
    "\n",
    "Cell Model Passports has a [download page](https://cellmodelpassports.sanger.ac.uk/downloads) which provides \n",
    "\n",
    ">Stable [link](https://cog.sanger.ac.uk/cmp/download/model_list_latest.csv.gz) that always points to the latest version.\n",
    "\n",
    "## Broad\n",
    "Broad hosts data for the DepMap project at a dedicated portal:\n",
    "\n",
    "https://depmap.org/portal/download/\n",
    "\n",
    "Broad also has a seemingly-related project called the [Cancer Cell Line Encyclopedia (CCLE)](https://sites.broadinstitute.org/ccle. The [CCLE Datasets page](https://sites.broadinstitute.org/ccle/datasets) has a link for an annotated list of cell lines, however, that link is dead. The link for Processed Data leads to the DepMap download portal.\n",
    "\n",
    "That portal lists a file called [_sample_info.csv_](https://ndownloader.figshare.com/files/35020903\n",
    ") which could very well be the annotated cell line information.\n"
   ]
  },
  {
   "cell_type": "markdown",
   "id": "6089fd27",
   "metadata": {
    "lines_to_next_cell": 0
   },
   "source": [
    "# Download Sanger Model List"
   ]
  },
  {
   "cell_type": "code",
   "execution_count": null,
   "id": "5db17457",
   "metadata": {
    "label": "load wide tables"
   },
   "outputs": [],
   "source": [
    "model_list = \n",
    "  read_csv(\"https://cog.sanger.ac.uk/cmp/download/model_list_latest.csv.gz\") %>% \n",
    "  select(\n",
    "    sanger_model_id = model_id,\n",
    "    depmap_id = BROAD_ID,\n",
    "    sanger_sample_id = sample_id,\n",
    "    sanger_patient_id = patient_id,\n",
    "    model_type,\n",
    "    cell_line_name = model_name,\n",
    "    ccle_id = CCLE_ID,\n",
    "    tissue,\n",
    "    cancer_type,\n",
    "    cancer_subtype = cancer_type_detail,\n",
    "    sample_site\n",
    "  ) %>% \n",
    "  mutate(from_sanger = T) %>% \n",
    "  rowwise() %>% \n",
    "  mutate(depmap_id = str_split(depmap_id, \";\")) %>% \n",
    "  unnest_longer(depmap_id)"
   ]
  },
  {
   "cell_type": "markdown",
   "id": "68a20b9b",
   "metadata": {},
   "source": [
    "# Download BROAD DepMap \"Sample Info\""
   ]
  },
  {
   "cell_type": "code",
   "execution_count": null,
   "id": "d93591a1",
   "metadata": {},
   "outputs": [],
   "source": [
    "sample_info = \n",
    "  read_csv(\"https://ndownloader.figshare.com/files/35020903\") %>% \n",
    "  select(\n",
    "    depmap_id = DepMap_ID,\n",
    "    sanger_model_id = Sanger_Model_ID,\n",
    "    ccle_id = CCLE_Name,\n",
    "    cell_line_name,\n",
    "    stripped_cell_line_name,\n",
    "    tissue = sample_collection_site,\n",
    "    cancer_type = primary_disease,\n",
    "    cancer_subtype = Subtype,\n",
    "    lineage,\n",
    "    lineage_subtype\n",
    "  ) %>% \n",
    "  mutate(from_broad = T)\n"
   ]
  },
  {
   "cell_type": "markdown",
   "id": "f62fc471",
   "metadata": {
    "lines_to_next_cell": 0
   },
   "source": [
    "# Joined"
   ]
  },
  {
   "cell_type": "code",
   "execution_count": null,
   "id": "5663bf67",
   "metadata": {
    "lines_to_next_cell": 2
   },
   "outputs": [],
   "source": [
    "joined  = \n",
    "  full_join(\n",
    "    sample_info,\n",
    "    model_list,\n",
    "    by = c(\"sanger_model_id\", \"depmap_id\"),\n",
    "    suffix = c(\"_broad\", \"_sanger\")\n",
    "  ) %>% \n",
    "  distinct() %>% \n",
    "  mutate(\n",
    "    has_depmap_id = !is.na(depmap_id),\n",
    "    has_sanger_id = !is.na(sanger_model_id),\n",
    "    has_ccle_id_broad = !is.na(ccle_id_broad),\n",
    "    has_ccle_id_sanger = !is.na(ccle_id_sanger),\n",
    "    has_cell_line_name_broad = !is.na(cell_line_name_broad),\n",
    "    has_cell_line_name_sanger = !is.na(cell_line_name_sanger)\n",
    "  ) %>% \n",
    "  group_by(depmap_id) %>% \n",
    "    filter(n()==1 | n()>1 & !is.na(sanger_model_id)) %>% \n",
    "  ungroup() %>% \n",
    "  group_by(sanger_model_id) %>% \n",
    "    filter(n()==1 | n()>1 & !is.na(depmap_id)) %>% \n",
    "  ungroup()\n",
    "\n",
    "sorted_colnames = \n",
    "  colnames(joined) %>% \n",
    "  sort() %>% \n",
    "  setdiff(., c(\"sanger_model_id\", \"depmap_id\")) %>% \n",
    "  c(c(\"sanger_model_id\", \"depmap_id\"), .)\n",
    "\n",
    "joined = joined %>% select(!!sorted_colnames)\n",
    "\n",
    "joined %>% display_table()\n"
   ]
  },
  {
   "cell_type": "markdown",
   "id": "0e1c7bc8",
   "metadata": {
    "lines_to_next_cell": 0
   },
   "source": [
    "# Some Counts"
   ]
  },
  {
   "cell_type": "code",
   "execution_count": null,
   "id": "2141dcd1",
   "metadata": {
    "lines_to_next_cell": 2
   },
   "outputs": [],
   "source": [
    "joined %>% \n",
    "  mutate(\n",
    "    has_depmap_id = !is.na(depmap_id),\n",
    "    has_sanger_id = !is.na(sanger_model_id)\n",
    "  ) %>% \n",
    "  count(has_depmap_id, has_sanger_id) %>%\n",
    "  display_table()\n",
    "\n",
    "joined %>% \n",
    "  mutate(\n",
    "    has_depmap_id = !is.na(depmap_id),\n",
    "    has_sanger_id = !is.na(sanger_model_id)\n",
    "  ) %>% \n",
    "  group_by(model_type) %>% \n",
    "  count(has_depmap_id, has_sanger_id) %>%\n",
    "  display_table()\n",
    "\n",
    "joined %>% \n",
    "  mutate(\n",
    "    has_depmap_id = !is.na(depmap_id),\n",
    "    has_sanger_id = !is.na(sanger_model_id),\n",
    "    has_ccle_id_broad = !is.na(ccle_id_broad),\n",
    "    has_ccle_id_sanger = !is.na(ccle_id_sanger),\n",
    "    has_cell_line_name_broad = !is.na(cell_line_name_broad),\n",
    "    has_cell_line_name_sanger = !is.na(cell_line_name_sanger)\n",
    "  ) %>% \n",
    "  count(has_depmap_id, has_sanger_id, has_ccle_id_broad, has_ccle_id_sanger, has_cell_line_name_broad, has_cell_line_name_sanger) %>% \n",
    "  arrange(!has_depmap_id, !has_sanger_id, !has_ccle_id_broad, !has_ccle_id_sanger, !has_cell_line_name_broad, !has_cell_line_name_sanger) %>%\n",
    "  display_table()"
   ]
  },
  {
   "cell_type": "markdown",
   "id": "040b5c07",
   "metadata": {
    "lines_to_next_cell": 0
   },
   "source": [
    "# Add in GDSC cell line metadata"
   ]
  },
  {
   "cell_type": "code",
   "execution_count": null,
   "id": "52be61a5",
   "metadata": {},
   "outputs": [],
   "source": [
    "gdsc_cell_lines_metadata = \n",
    "  read_tsv(\"../gdsc_bq_etl/large_files/harmonized/cell_lines_metadata.tsv\") %>% \n",
    "  select(\n",
    "    cell_line_name, \n",
    "    cosmic_sample_id, \n",
    "    sanger_model_id = cell_model_passports_id\n",
    "  ) %>% \n",
    "  mutate(across(everything(), toupper)) %>% \n",
    "  mutate(in_gdsc = T) %>% \n",
    "  distinct()"
   ]
  },
  {
   "cell_type": "code",
   "execution_count": null,
   "id": "d6b56095",
   "metadata": {
    "lines_to_next_cell": 0
   },
   "outputs": [],
   "source": [
    "joined2 = \n",
    "  full_join(\n",
    "    joined,\n",
    "    gdsc_cell_lines_metadata,\n",
    "    by = \"sanger_model_id\"\n",
    "  ) %>% \n",
    "  mutate(in_gdsc = ifelse(is.na(in_gdsc), F, T)) %>% \n",
    "  select(depmap_id, sanger_model_id, in_gdsc) %>% \n",
    "  distinct()\n",
    "\n"
   ]
  },
  {
   "cell_type": "code",
   "execution_count": null,
   "id": "7d15d345",
   "metadata": {
    "lines_to_next_cell": 0
   },
   "outputs": [],
   "source": [
    "joined2 %>%\n",
    "  display_table()"
   ]
  },
  {
   "cell_type": "markdown",
   "id": "b708cf4b",
   "metadata": {},
   "source": [
    "\n",
    "\n",
    "\n",
    "\n"
   ]
  }
 ],
 "metadata": {
  "jupytext": {
   "cell_metadata_filter": "tags,label,-all",
   "main_language": "R",
   "notebook_metadata_filter": "-all"
  }
 },
 "nbformat": 4,
 "nbformat_minor": 5
}
